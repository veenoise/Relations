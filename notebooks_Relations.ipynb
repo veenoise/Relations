{
  "metadata": {
    "kernelspec": {
      "name": "python",
      "display_name": "Python (Pyodide)",
      "language": "python"
    },
    "language_info": {
      "codemirror_mode": {
        "name": "python",
        "version": 3
      },
      "file_extension": ".py",
      "mimetype": "text/x-python",
      "name": "python",
      "nbconvert_exporter": "python",
      "pygments_lexer": "ipython3",
      "version": "3.8"
    }
  },
  "nbformat_minor": 5,
  "nbformat": 4,
  "cells": [
    {
      "cell_type": "markdown",
      "source": "# This is a Jupyter notebook about binary relation and its properties. Hopefully, this can help you understand the difference between each properties, and how to determine which property/properties a Relation possesses.\n## Properties of Relation:\n1. Reflexive\n2. Irreflexive\n3. Symmetric\n4. Asymmetric\n5. Antisymmetric\n6. Transitive",
      "metadata": {},
      "id": "c1a2610b-2e69-459e-b621-93f11c90b1ff"
    },
    {
      "cell_type": "markdown",
      "source": "### Reflexive\n#### (a,a) ∈ R for every element a ∈ A\nAs long as every possible (a, a) is in the Relation, it is Reflexive.",
      "metadata": {},
      "id": "93999f7c-10c2-40f4-aff7-03cb3060f9ec"
    },
    {
      "cell_type": "code",
      "source": "# List the Binary Relation to evaluate\nto_eval = [(1,1), (1,2), (1,4), (2,1), (2,2), (3,3), (4,1), (4,4)]\nprint(\"The given Relation: \", to_eval)",
      "metadata": {
        "trusted": true
      },
      "execution_count": 1,
      "outputs": [
        {
          "name": "stdout",
          "text": "The given Relation:  [(1, 1), (1, 2), (1, 4), (2, 1), (2, 2), (3, 3), (4, 1), (4, 4)]\n",
          "output_type": "stream"
        }
      ],
      "id": "ecfa2e8c-d873-4ff1-b91f-ecac68254cec"
    },
    {
      "cell_type": "code",
      "source": "# Determine the unique values in the Relation\nunique = []\nfor index in range(len(to_eval)):\n    if not to_eval[index][0] in unique:\n        unique.append(to_eval[index][0])\n    if not to_eval[index][1] in unique:\n        unique.append(to_eval[index][1])\nprint(\"Unique values: \", unique)",
      "metadata": {
        "trusted": true
      },
      "execution_count": 2,
      "outputs": [
        {
          "name": "stdout",
          "text": "Unique values:  [1, 2, 4, 3]\n",
          "output_type": "stream"
        }
      ],
      "id": "73106794-f819-4295-a7df-2cd8201f8ae6"
    },
    {
      "cell_type": "code",
      "source": "# Determine the reflexive elements it must posses\nreflexive_elements = []\nfor index in range(len(unique)):\n    a = unique[index]\n    reflexive_elements.append((a,a))\nprint(\"Reflexive elements: \", reflexive_elements)",
      "metadata": {
        "trusted": true
      },
      "execution_count": 3,
      "outputs": [
        {
          "name": "stdout",
          "text": "Reflexive elements:  [(1, 1), (2, 2), (4, 4), (3, 3)]\n",
          "output_type": "stream"
        }
      ],
      "id": "6b128dfe-3e06-4fe2-a389-a788baa4a51d"
    },
    {
      "cell_type": "code",
      "source": "# Determine if the Relation is reflexive\nreflexive = []\nfor index in range(len(reflexive_elements)):\n    if not reflexive_elements[index] in to_eval:\n        reflexive.append(True) \n        break   \nif len(reflexive) > 0:\n    print(\"The Relation is not reflexive\")\nelse:\n    print(\"The Relation is reflexive\")",
      "metadata": {
        "trusted": true
      },
      "execution_count": 4,
      "outputs": [
        {
          "name": "stdout",
          "text": "The Relation is reflexive\n",
          "output_type": "stream"
        }
      ],
      "id": "d43a9867-aff8-4183-850c-aeb08a512dd2"
    },
    {
      "cell_type": "markdown",
      "source": "### Irreflexive\n#### ∀a[(a,a) ∉ R]\nAs long as there is no (a, a) in the Relation, it is Irreflexive.",
      "metadata": {},
      "id": "bad2bf5c-7741-49c4-9783-69278c443e8d"
    },
    {
      "cell_type": "code",
      "source": "# List the Relation to evaluate\nto_eval = [(1,2), (1,4), (2,1), (4,1)]\nprint(\"The given Relation: \", to_eval)",
      "metadata": {
        "trusted": true
      },
      "execution_count": 5,
      "outputs": [
        {
          "name": "stdout",
          "text": "The given Relation:  [(1, 2), (1, 4), (2, 1), (4, 1)]\n",
          "output_type": "stream"
        }
      ],
      "id": "14d291a8-ab59-4c65-9bb1-70226fd4fbfd"
    },
    {
      "cell_type": "code",
      "source": "# Determine the unique values in the Relation\nunique = []\nfor index in range(len(to_eval)):\n    if not to_eval[index][0] in unique:\n        unique.append(to_eval[index][0])\n    if not to_eval[index][1] in unique:\n        unique.append(to_eval[index][1])\nprint(\"Unique values: \", unique)",
      "metadata": {
        "trusted": true
      },
      "execution_count": 6,
      "outputs": [
        {
          "name": "stdout",
          "text": "Unique values:  [1, 2, 4]\n",
          "output_type": "stream"
        }
      ],
      "id": "9c6454cf-86fd-4a5f-bcc5-bdf2f35d8e0b"
    },
    {
      "cell_type": "code",
      "source": "# Determine the reflexive elements it must not posses\nreflexive_elements = []\nfor index in range(len(unique)):\n    a = unique[index]\n    reflexive_elements.append((a,a))\nprint(\"Reflexive elements: \", reflexive_elements)",
      "metadata": {
        "trusted": true
      },
      "execution_count": 7,
      "outputs": [
        {
          "name": "stdout",
          "text": "Reflexive elements:  [(1, 1), (2, 2), (4, 4)]\n",
          "output_type": "stream"
        }
      ],
      "id": "675373f9-9054-4c71-a8a4-69e5c747db46"
    },
    {
      "cell_type": "code",
      "source": "# Determine if the Relation is irreflexive:\nirreflexive = []\nfor index in range(len(reflexive_elements)):\n    if reflexive_elements[index] in to_eval:\n        irreflexive.append(True)\n        break\nif len(irreflexive) > 0:\n    print(\"The Relation is not irreflexive\")\nelse:\n    print(\"The Relation is irreflexive\")",
      "metadata": {
        "trusted": true
      },
      "execution_count": 8,
      "outputs": [
        {
          "name": "stdout",
          "text": "The Relation is irreflexive\n",
          "output_type": "stream"
        }
      ],
      "id": "a15dc793-dcc2-4828-aebc-3753e8c132de"
    },
    {
      "cell_type": "markdown",
      "source": "### Symmetric\n#### ∀a ∀b [(a,b) ∈ R -> (b,a) ∈ R]\nIf (a, b) was mentioned in the Relation, (b, a) must also be in the Relation, otherwise it is not Symmetric.",
      "metadata": {},
      "id": "d8632cbc-348c-4719-85e9-6dd4206e3512"
    },
    {
      "cell_type": "code",
      "source": "# List the Relation to evaluate\nto_eval = [(1,2), (1,4), (2,1), (4,1)]\nprint(\"The given Relation: \", to_eval)",
      "metadata": {
        "trusted": true
      },
      "execution_count": 9,
      "outputs": [
        {
          "name": "stdout",
          "text": "The given Relation:  [(1, 2), (1, 4), (2, 1), (4, 1)]\n",
          "output_type": "stream"
        }
      ],
      "id": "a34e5bcc-ae46-4eaa-8809-0c34e5975451"
    },
    {
      "cell_type": "code",
      "source": "# Determine if the Relation is symmetric\nsymmetric = []\nfor index in range(len(to_eval)):\n    a = to_eval[index][0]\n    b = to_eval[index][1]\n    if not (b, a) in to_eval:\n        symmetric.append(True)\n        break\nif len(symmetric) > 0:\n    print(\"The Relation is not symmetric\")\nelse:\n    print(\"The Relation is symmetric\")",
      "metadata": {
        "trusted": true
      },
      "execution_count": 10,
      "outputs": [
        {
          "name": "stdout",
          "text": "The Relation is symmetric\n",
          "output_type": "stream"
        }
      ],
      "id": "57622dc3-988d-4426-967c-46cbc4b49f47"
    },
    {
      "cell_type": "markdown",
      "source": "### Asymmetric\n#### ∀a ∀b [(a,b) ∈ R -> (b,a) ∉ R].\nFor all (a, b) mentioned, the relation must not have (b, a).",
      "metadata": {},
      "id": "e56ed920-fc96-4030-8c07-627f752f71c9"
    },
    {
      "cell_type": "code",
      "source": "# List the Relation to evaluate\nto_eval = [(1,2), (1,4), (1, 3)]\nprint(\"The given Relation: \", to_eval)",
      "metadata": {
        "trusted": true
      },
      "execution_count": 11,
      "outputs": [
        {
          "name": "stdout",
          "text": "The given Relation:  [(1, 2), (1, 4), (1, 3)]\n",
          "output_type": "stream"
        }
      ],
      "id": "c0ff34bf-b976-4132-915f-e31e56bc094a"
    },
    {
      "cell_type": "code",
      "source": "# Determine if asymmetric\nasymmetric = []\nfor index in range(len(to_eval)):\n    a = to_eval[index][0]\n    b = to_eval[index][1]\n    if (b, a) in to_eval:\n        asymmetric.append(True)\n        break\nif len(asymmetric) > 0:\n    print(\"The Relation is not asymmetric\")\nelse:\n    print(\"The Relation is asymmetric\")",
      "metadata": {
        "trusted": true
      },
      "execution_count": 12,
      "outputs": [
        {
          "name": "stdout",
          "text": "The Relation is asymmetric\n",
          "output_type": "stream"
        }
      ],
      "id": "d2a66c76-d1f2-4d29-bbbb-70b027247245"
    },
    {
      "cell_type": "markdown",
      "source": "### Antisymmetric\n#### ∀a ∀b [ ( (a,b) ∈ R & (b,a) ∉ R) -> (a = b) ]\nIf (a, b) and (b, a) is in the Relation, a must be equal to b.",
      "metadata": {},
      "id": "c663d26f-c21c-4c02-b847-00b937002e44"
    },
    {
      "cell_type": "code",
      "source": "# List the Relation to evaluate\nto_eval = [(1,1), (1,2), (2,2), (3,1), (3,3)]\nprint(\"The given Relation: \", to_eval)",
      "metadata": {
        "trusted": true
      },
      "execution_count": 13,
      "outputs": [
        {
          "name": "stdout",
          "text": "The given Relation:  [(1, 1), (1, 2), (2, 2), (3, 1), (3, 3)]\n",
          "output_type": "stream"
        }
      ],
      "id": "83b5b61e-7216-4201-ac9a-8347cac0c256"
    },
    {
      "cell_type": "code",
      "source": "# Determine if the Relation is antisymmetric\nantisymmetric = []\nfor index in range(len(to_eval)):\n    a = to_eval[index][0]\n    b = to_eval[index][1]\n    if (b, a) in to_eval and a != b:\n        antisymmetric.append(True)\n        break\nif len(antisymmetric) > 0:\n    print(\"The Relation is not antisymmetric\")\nelse:\n    print(\"The Relation is antisymmetric\")",
      "metadata": {
        "trusted": true
      },
      "execution_count": 14,
      "outputs": [
        {
          "name": "stdout",
          "text": "The Relation is antisymmetric\n",
          "output_type": "stream"
        }
      ],
      "id": "1b2b1b36-62e3-495a-8826-b39a3efc4048"
    },
    {
      "cell_type": "markdown",
      "source": "### Transitive\n#### (a,b) ∈ R and (b,c) ∈ R, then (a,c) ∈ R, for all a,b,c ∈ A\nif (a, b) and (b, c) is in the Relation, (a, c) must also be in the Relation.",
      "metadata": {},
      "id": "714c2a18-a5dc-4ea5-8128-09c68c54edba"
    },
    {
      "cell_type": "code",
      "source": "# List the Relation to evaluate\nto_eval = [(1,1), (1,2), (1,4), (2,1), (2,2), (2,4), (3,3), (4,1), (4,2), (4,4)]\nprint(\"The given Relation: \", to_eval)",
      "metadata": {
        "trusted": true
      },
      "execution_count": 15,
      "outputs": [
        {
          "name": "stdout",
          "text": "The given Relation:  [(1, 1), (1, 2), (1, 4), (2, 1), (2, 2), (2, 4), (3, 3), (4, 1), (4, 2), (4, 4)]\n",
          "output_type": "stream"
        }
      ],
      "id": "7e39390c-d42e-49cb-b3d0-a7fa615c3dc2"
    },
    {
      "cell_type": "code",
      "source": "# Determine the unique values in the Relation\nunique = []\nfor index in range(len(to_eval)):\n    if not to_eval[index][0] in unique:\n        unique.append(to_eval[index][0])\n    if not to_eval[index][1] in unique:\n        unique.append(to_eval[index][1])\nprint(\"Unique values: \", unique)",
      "metadata": {
        "trusted": true
      },
      "execution_count": 16,
      "outputs": [
        {
          "name": "stdout",
          "text": "Unique values:  [1, 2, 4, 3]\n",
          "output_type": "stream"
        }
      ],
      "id": "03118929-6761-4aa9-b5b5-b721467e98df"
    },
    {
      "cell_type": "code",
      "source": "# Determine if the Relation is transitive\ntransitive = []\nfor index in range(len(to_eval)):\n    a = to_eval[index][0]\n    b = to_eval[index][1]\n    for inner in range(len(unique)):\n        c = unique[inner]\n        if (b, c) in to_eval and (a, c) not in to_eval:\n            transitive.append(True)\n            break\nif len(transitive) > 0:\n    print(\"The Relation is not transitive\")\nelse:\n    print(\"The Relation is transitive\")",
      "metadata": {
        "trusted": true
      },
      "execution_count": 17,
      "outputs": [
        {
          "name": "stdout",
          "text": "The Relation is transitive\n",
          "output_type": "stream"
        }
      ],
      "id": "97448a10-4084-4c26-a083-ec8e7bf9c332"
    },
    {
      "cell_type": "markdown",
      "source": "## This is the end of the discussion\n### You can use the code below to determine which property/properties a Relation posses.",
      "metadata": {},
      "id": "58009331-a95a-4bdb-8845-dfda36c6b2c0"
    },
    {
      "cell_type": "code",
      "source": "# List the Relation to evaluate\nto_eval = [(1,1), (1,2), (1,4), (2,1), (2,2), (2,4), (3,3), (4,1), (4,4)]\nprint(\"The given Relation: \", to_eval)\n\n# Determine the unique values in the Relation\nunique = []\nfor index in range(len(to_eval)):\n    if not to_eval[index][0] in unique:\n        unique.append(to_eval[index][0])\n    if not to_eval[index][1] in unique:\n        unique.append(to_eval[index][1])\nprint(\"Unique values: \", unique)\n\n# Determine the reflexive elements it must posses\nreflexive_elements = []\nfor index in range(len(unique)):\n    a = unique[index]\n    reflexive_elements.append((a,a))\nprint(\"Reflexive elements: \", reflexive_elements)\n\n# Determine if the Relation is reflexive\nreflexive = []\nfor index in range(len(reflexive_elements)):\n    if not reflexive_elements[index] in to_eval:\n        reflexive.append(True) \n        break   \nif len(reflexive) > 0:\n    print(\"The Relation is not reflexive\")\nelse:\n    print(\"The Relation is reflexive\")\n\n# Determine if the Relation is irreflexive:\nirreflexive = []\nfor index in range(len(reflexive_elements)):\n    if reflexive_elements[index] in to_eval:\n        irreflexive.append(True)\n        break\nif len(irreflexive) > 0:\n    print(\"The Relation is not irreflexive\")\nelse:\n    print(\"The Relation is irreflexive\")\n\n# Determine if the Relation is symmetric\nsymmetric = []\nfor index in range(len(to_eval)):\n    a = to_eval[index][0]\n    b = to_eval[index][1]\n    if not (b, a) in to_eval:\n        symmetric.append(True)\n        break\nif len(symmetric) > 0:\n    print(\"The Relation is not symmetric\")\nelse:\n    print(\"The Relation is symmetric\")\n\n# Determine if asymmetric\nasymmetric = []\nfor index in range(len(to_eval)):\n    a = to_eval[index][0]\n    b = to_eval[index][1]\n    if (b, a) in to_eval:\n        asymmetric.append(True)\n        break\nif len(asymmetric) > 0:\n    print(\"The Relation is not asymmetric\")\nelse:\n    print(\"The Relation is asymmetric\")\n\n# Determine if the Relation is antisymmetric\nantisymmetric = []\nfor index in range(len(to_eval)):\n    a = to_eval[index][0]\n    b = to_eval[index][1]\n    if (b, a) in to_eval and a != b:\n        antisymmetric.append(True)\n        break\nif len(antisymmetric) > 0:\n    print(\"The Relation is not antisymmetric\")\nelse:\n    print(\"The Relation is antisymmetric\")\n\n# Determine if the Relation is transitive\ntransitive = []\nfor index in range(len(to_eval)):\n    a = to_eval[index][0]\n    b = to_eval[index][1]\n    for inner in range(len(unique)):\n        c = unique[inner]\n        if (b, c) in to_eval and (a, c) not in to_eval:\n            transitive.append(True)            \n            break\nif len(transitive) > 0:\n    print(\"The Relation is not transitive\")\nelse:\n    print(\"The Relation is transitive\")",
      "metadata": {
        "trusted": true
      },
      "execution_count": 18,
      "outputs": [
        {
          "name": "stdout",
          "text": "The given Relation:  [(1, 1), (1, 2), (1, 4), (2, 1), (2, 2), (2, 4), (3, 3), (4, 1), (4, 4)]\nUnique values:  [1, 2, 4, 3]\nReflexive elements:  [(1, 1), (2, 2), (4, 4), (3, 3)]\nThe Relation is reflexive\nThe Relation is not irreflexive\nThe Relation is not symmetric\nThe Relation is not asymmetric\nThe Relation is not antisymmetric\nThe Relation is not transitive\n",
          "output_type": "stream"
        }
      ],
      "id": "c2740d35-53a8-448d-9731-cbbbab571030"
    }
  ]
}