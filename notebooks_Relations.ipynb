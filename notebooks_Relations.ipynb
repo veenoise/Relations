{
 "cells": [
  {
   "cell_type": "markdown",
   "id": "c1a2610b-2e69-459e-b621-93f11c90b1ff",
   "metadata": {},
   "source": [
    "# This is a Jupyter notebook about binary relation and its properties. Hopefully, this can help you understand the difference between each properties, and how to determine which property/properties a Relation possesses.\n",
    "## Properties of Relation:\n",
    "1. Reflexive\n",
    "2. Irreflexive\n",
    "3. Symmetric\n",
    "4. Asymmetric\n",
    "5. Antisymmetric\n",
    "6. Transitive"
   ]
  },
  {
   "cell_type": "markdown",
   "id": "93999f7c-10c2-40f4-aff7-03cb3060f9ec",
   "metadata": {},
   "source": [
    "### Reflexive\n",
    "#### (a,a) ∈ R for every element a ∈ A\n",
    "As long as every possible (a, a) is in the Relation, it is Reflexive."
   ]
  },
  {
   "cell_type": "code",
   "execution_count": 1,
   "id": "ecfa2e8c-d873-4ff1-b91f-ecac68254cec",
   "metadata": {},
   "outputs": [
    {
     "name": "stdout",
     "output_type": "stream",
     "text": [
      "The given Relation:  [(1, 1), (1, 2), (1, 4), (2, 1), (2, 2), (3, 3), (4, 1), (4, 4)]\n"
     ]
    }
   ],
   "source": [
    "# List the Binary Relation to evaluate\n",
    "to_eval = [(1,1), (1,2), (1,4), (2,1), (2,2), (3,3), (4,1), (4,4)]\n",
    "print(\"The given Relation: \", to_eval)"
   ]
  },
  {
   "cell_type": "code",
   "execution_count": 2,
   "id": "73106794-f819-4295-a7df-2cd8201f8ae6",
   "metadata": {},
   "outputs": [
    {
     "name": "stdout",
     "output_type": "stream",
     "text": [
      "Unique values:  [1, 2, 4, 3]\n"
     ]
    }
   ],
   "source": [
    "# Determine the unique values in the Relation\n",
    "unique = []\n",
    "for index in range(len(to_eval)):\n",
    "    if not to_eval[index][0] in unique:\n",
    "        unique.append(to_eval[index][0])\n",
    "    if not to_eval[index][1] in unique:\n",
    "        unique.append(to_eval[index][1])\n",
    "print(\"Unique values: \", unique)"
   ]
  },
  {
   "cell_type": "code",
   "execution_count": 3,
   "id": "6b128dfe-3e06-4fe2-a389-a788baa4a51d",
   "metadata": {},
   "outputs": [
    {
     "name": "stdout",
     "output_type": "stream",
     "text": [
      "Reflexive elements:  [(1, 1), (2, 2), (4, 4), (3, 3)]\n"
     ]
    }
   ],
   "source": [
    "# Determine the reflexive elements it must posses\n",
    "reflexive_elements = []\n",
    "for index in range(len(unique)):\n",
    "    a = unique[index]\n",
    "    reflexive_elements.append((a,a))\n",
    "print(\"Reflexive elements: \", reflexive_elements)"
   ]
  },
  {
   "cell_type": "code",
   "execution_count": 4,
   "id": "d43a9867-aff8-4183-850c-aeb08a512dd2",
   "metadata": {},
   "outputs": [
    {
     "name": "stdout",
     "output_type": "stream",
     "text": [
      "The Relation is reflexive\n"
     ]
    }
   ],
   "source": [
    "# Determine if the Relation is reflexive\n",
    "reflexive = []\n",
    "for index in range(len(reflexive_elements)):\n",
    "    if not reflexive_elements[index] in to_eval:\n",
    "        reflexive.append(True) \n",
    "        break   \n",
    "if len(reflexive) > 0:\n",
    "    print(\"The Relation is not reflexive\")\n",
    "else:\n",
    "    print(\"The Relation is reflexive\")"
   ]
  },
  {
   "cell_type": "markdown",
   "id": "bad2bf5c-7741-49c4-9783-69278c443e8d",
   "metadata": {},
   "source": [
    "### Irreflexive\n",
    "#### ∀a[(a,a) ∉ R]\n",
    "As long as there is no (a, a) in the Relation, it is Irreflexive."
   ]
  },
  {
   "cell_type": "code",
   "execution_count": 5,
   "id": "14d291a8-ab59-4c65-9bb1-70226fd4fbfd",
   "metadata": {},
   "outputs": [
    {
     "name": "stdout",
     "output_type": "stream",
     "text": [
      "The given Relation:  [(1, 2), (1, 4), (2, 1), (4, 1)]\n"
     ]
    }
   ],
   "source": [
    "# List the Relation to evaluate\n",
    "to_eval = [(1,2), (1,4), (2,1), (4,1)]\n",
    "print(\"The given Relation: \", to_eval)"
   ]
  },
  {
   "cell_type": "code",
   "execution_count": 6,
   "id": "a15dc793-dcc2-4828-aebc-3753e8c132de",
   "metadata": {},
   "outputs": [
    {
     "name": "stdout",
     "output_type": "stream",
     "text": [
      "The Relation is irreflexive\n"
     ]
    }
   ],
   "source": [
    "# Determine if the Relation is irreflexive:\n",
    "irreflexive = []\n",
    "for index in range(len(reflexive_elements)):\n",
    "    if reflexive_elements[index] in to_eval:\n",
    "        irreflexive.append(True)\n",
    "        break\n",
    "if len(irreflexive) > 0:\n",
    "    print(\"The Relation is not irreflexive\")\n",
    "else:\n",
    "    print(\"The Relation is irreflexive\")"
   ]
  },
  {
   "cell_type": "markdown",
   "id": "d8632cbc-348c-4719-85e9-6dd4206e3512",
   "metadata": {},
   "source": [
    "### Symmetric\n",
    "#### ∀a ∀b [(a,b) ∈ R -> (b,a) ∈ R]\n",
    "If (a, b) was mentioned in the Relation, (b, a) must also be in the Relation, otherwise it is not Symmetric."
   ]
  },
  {
   "cell_type": "code",
   "execution_count": 7,
   "id": "a34e5bcc-ae46-4eaa-8809-0c34e5975451",
   "metadata": {},
   "outputs": [
    {
     "name": "stdout",
     "output_type": "stream",
     "text": [
      "The given Relation:  [(1, 2), (1, 4), (2, 1), (4, 1)]\n"
     ]
    }
   ],
   "source": [
    "# List the Relation to evaluate\n",
    "to_eval = [(1,2), (1,4), (2,1), (4,1)]\n",
    "print(\"The given Relation: \", to_eval)"
   ]
  },
  {
   "cell_type": "code",
   "execution_count": 8,
   "id": "57622dc3-988d-4426-967c-46cbc4b49f47",
   "metadata": {},
   "outputs": [
    {
     "name": "stdout",
     "output_type": "stream",
     "text": [
      "The Relation is symmetric\n"
     ]
    }
   ],
   "source": [
    "# Determine if the Relation is symmetric\n",
    "symmetric = []\n",
    "for index in range(len(to_eval)):\n",
    "    a = to_eval[index][0]\n",
    "    b = to_eval[index][1]\n",
    "    if not (b, a) in to_eval:\n",
    "        symmetric.append(True)\n",
    "        break\n",
    "if len(symmetric) > 0:\n",
    "    print(\"The Relation is not symmetric\")\n",
    "else:\n",
    "    print(\"The Relation is symmetric\")"
   ]
  },
  {
   "cell_type": "markdown",
   "id": "e56ed920-fc96-4030-8c07-627f752f71c9",
   "metadata": {},
   "source": [
    "### Asymmetric\n",
    "#### ∀a ∀b [(a,b) ∈ R -> (b,a) ∉ R].\n",
    "For all (a, b) mentioned, the relation must not have (b, a)."
   ]
  },
  {
   "cell_type": "code",
   "execution_count": 9,
   "id": "c0ff34bf-b976-4132-915f-e31e56bc094a",
   "metadata": {},
   "outputs": [
    {
     "name": "stdout",
     "output_type": "stream",
     "text": [
      "The given Relation:  [(1, 2), (1, 4), (1, 3)]\n"
     ]
    }
   ],
   "source": [
    "# List the Relation to evaluate\n",
    "to_eval = [(1,2), (1,4), (1, 3)]\n",
    "print(\"The given Relation: \", to_eval)"
   ]
  },
  {
   "cell_type": "code",
   "execution_count": 10,
   "id": "d2a66c76-d1f2-4d29-bbbb-70b027247245",
   "metadata": {},
   "outputs": [
    {
     "name": "stdout",
     "output_type": "stream",
     "text": [
      "The Relation is asymmetric\n"
     ]
    }
   ],
   "source": [
    "# Determine if asymmetric\n",
    "asymmetric = []\n",
    "for index in range(len(to_eval)):\n",
    "    a = to_eval[index][0]\n",
    "    b = to_eval[index][1]\n",
    "    if (b, a) in to_eval:\n",
    "        asymmetric.append(True)\n",
    "        break\n",
    "if len(asymmetric) > 0:\n",
    "    print(\"The Relation is not asymmetric\")\n",
    "else:\n",
    "    print(\"The Relation is asymmetric\")"
   ]
  },
  {
   "cell_type": "markdown",
   "id": "c663d26f-c21c-4c02-b847-00b937002e44",
   "metadata": {},
   "source": [
    "### Antisymmetric\n",
    "#### ∀a ∀b [ ( (a,b) ∈ R & (b,a) ∉ R) -> (a = b) ]\n",
    "If (a, b) and (b, a) is in the Relation, a must be equal to b."
   ]
  },
  {
   "cell_type": "code",
   "execution_count": 11,
   "id": "83b5b61e-7216-4201-ac9a-8347cac0c256",
   "metadata": {},
   "outputs": [
    {
     "name": "stdout",
     "output_type": "stream",
     "text": [
      "The given Relation:  [(1, 1), (1, 2), (2, 2), (3, 1), (3, 3)]\n"
     ]
    }
   ],
   "source": [
    "# List the Relation to evaluate\n",
    "to_eval = [(1,1), (1,2), (2,2), (3,1), (3,3)]\n",
    "print(\"The given Relation: \", to_eval)"
   ]
  },
  {
   "cell_type": "code",
   "execution_count": 12,
   "id": "1b2b1b36-62e3-495a-8826-b39a3efc4048",
   "metadata": {},
   "outputs": [
    {
     "name": "stdout",
     "output_type": "stream",
     "text": [
      "The Relation is antisymmetric\n"
     ]
    }
   ],
   "source": [
    "# Determine if the Relation is antisymmetric\n",
    "antisymmetric = []\n",
    "for index in range(len(to_eval)):\n",
    "    a = to_eval[index][0]\n",
    "    b = to_eval[index][1]\n",
    "    if (b, a) in to_eval and a != b:\n",
    "        antisymmetric.append(True)\n",
    "        break\n",
    "if len(antisymmetric) > 0:\n",
    "    print(\"The Relation is not antisymmetric\")\n",
    "else:\n",
    "    print(\"The Relation is antisymmetric\")"
   ]
  },
  {
   "cell_type": "markdown",
   "id": "714c2a18-a5dc-4ea5-8128-09c68c54edba",
   "metadata": {},
   "source": [
    "### Transitive\n",
    "#### (a,b) ∈ R and (b,c) ∈ R, then (a,c) ∈ R, for all a,b,c ∈ A\n",
    "if (a, b) and (b, c) is in the Relation, (a, c) must also be in the Relation."
   ]
  },
  {
   "cell_type": "code",
   "execution_count": 13,
   "id": "7e39390c-d42e-49cb-b3d0-a7fa615c3dc2",
   "metadata": {},
   "outputs": [
    {
     "name": "stdout",
     "output_type": "stream",
     "text": [
      "The given Relation:  [(1, 1), (1, 2), (1, 4), (2, 1), (2, 2), (2, 4), (3, 3), (4, 1), (4, 2), (4, 4)]\n"
     ]
    }
   ],
   "source": [
    "# List the Relation to evaluate\n",
    "to_eval = [(1,1), (1,2), (1,4), (2,1), (2,2), (2,4), (3,3), (4,1), (4,2), (4,4)]\n",
    "print(\"The given Relation: \", to_eval)"
   ]
  },
  {
   "cell_type": "code",
   "execution_count": 14,
   "id": "03118929-6761-4aa9-b5b5-b721467e98df",
   "metadata": {},
   "outputs": [
    {
     "name": "stdout",
     "output_type": "stream",
     "text": [
      "Unique values:  [1, 2, 4, 3]\n"
     ]
    }
   ],
   "source": [
    "# Determine the unique values in the Relation\n",
    "unique = []\n",
    "for index in range(len(to_eval)):\n",
    "    if not to_eval[index][0] in unique:\n",
    "        unique.append(to_eval[index][0])\n",
    "    if not to_eval[index][1] in unique:\n",
    "        unique.append(to_eval[index][1])\n",
    "print(\"Unique values: \", unique)"
   ]
  },
  {
   "cell_type": "code",
   "execution_count": 15,
   "id": "97448a10-4084-4c26-a083-ec8e7bf9c332",
   "metadata": {},
   "outputs": [
    {
     "name": "stdout",
     "output_type": "stream",
     "text": [
      "The Relation is transitive\n"
     ]
    }
   ],
   "source": [
    "# Determine if the Relation is transitive\n",
    "transitive = []\n",
    "for index in range(len(to_eval)):\n",
    "    a = to_eval[index][0]\n",
    "    b = to_eval[index][1]\n",
    "    for inner in range(len(unique)):\n",
    "        c = unique[inner]\n",
    "        if (b, c) in to_eval and (a, c) not in to_eval:\n",
    "            transitive.append(True)\n",
    "            break\n",
    "if len(transitive) > 0:\n",
    "    print(\"The Relation is not transitive\")\n",
    "else:\n",
    "    print(\"The Relation is transitive\")"
   ]
  },
  {
   "cell_type": "markdown",
   "id": "58009331-a95a-4bdb-8845-dfda36c6b2c0",
   "metadata": {},
   "source": [
    "## This is the end of the discussion\n",
    "### You can use the code below to determine which property/properties a Relation posses."
   ]
  },
  {
   "cell_type": "code",
   "execution_count": 16,
   "id": "c2740d35-53a8-448d-9731-cbbbab571030",
   "metadata": {},
   "outputs": [
    {
     "name": "stdout",
     "output_type": "stream",
     "text": [
      "The given Relation:  [(1, 1), (1, 2), (1, 4), (2, 1), (2, 2), (2, 4), (3, 3), (4, 1), (4, 4)]\n",
      "Unique values:  [1, 2, 4, 3]\n",
      "Reflexive elements:  [(1, 1), (2, 2), (4, 4), (3, 3)]\n",
      "The Relation is reflexive\n",
      "The Relation is not irreflexive\n",
      "The Relation is not symmetric\n",
      "The Relation is not asymmetric\n",
      "The Relation is not antisymmetric\n",
      "The Relation is not transitive\n"
     ]
    }
   ],
   "source": [
    "# List the Relation to evaluate\n",
    "to_eval = [(1,1), (1,2), (1,4), (2,1), (2,2), (2,4), (3,3), (4,1), (4,4)]\n",
    "print(\"The given Relation: \", to_eval)\n",
    "\n",
    "# Determine the unique values in the Relation\n",
    "unique = []\n",
    "for index in range(len(to_eval)):\n",
    "    if not to_eval[index][0] in unique:\n",
    "        unique.append(to_eval[index][0])\n",
    "    if not to_eval[index][1] in unique:\n",
    "        unique.append(to_eval[index][1])\n",
    "print(\"Unique values: \", unique)\n",
    "\n",
    "# Determine the reflexive elements it must posses\n",
    "reflexive_elements = []\n",
    "for index in range(len(unique)):\n",
    "    a = unique[index]\n",
    "    reflexive_elements.append((a,a))\n",
    "print(\"Reflexive elements: \", reflexive_elements)\n",
    "\n",
    "# Determine if the Relation is reflexive\n",
    "reflexive = []\n",
    "for index in range(len(reflexive_elements)):\n",
    "    if not reflexive_elements[index] in to_eval:\n",
    "        reflexive.append(True) \n",
    "        break   \n",
    "if len(reflexive) > 0:\n",
    "    print(\"The Relation is not reflexive\")\n",
    "else:\n",
    "    print(\"The Relation is reflexive\")\n",
    "\n",
    "# Determine if the Relation is irreflexive:\n",
    "irreflexive = []\n",
    "for index in range(len(reflexive_elements)):\n",
    "    if reflexive_elements[index] in to_eval:\n",
    "        irreflexive.append(True)\n",
    "        break\n",
    "if len(irreflexive) > 0:\n",
    "    print(\"The Relation is not irreflexive\")\n",
    "else:\n",
    "    print(\"The Relation is irreflexive\")\n",
    "\n",
    "# Determine if the Relation is symmetric\n",
    "symmetric = []\n",
    "for index in range(len(to_eval)):\n",
    "    a = to_eval[index][0]\n",
    "    b = to_eval[index][1]\n",
    "    if not (b, a) in to_eval:\n",
    "        symmetric.append(True)\n",
    "        break\n",
    "if len(symmetric) > 0:\n",
    "    print(\"The Relation is not symmetric\")\n",
    "else:\n",
    "    print(\"The Relation is symmetric\")\n",
    "\n",
    "# Determine if asymmetric\n",
    "asymmetric = []\n",
    "for index in range(len(to_eval)):\n",
    "    a = to_eval[index][0]\n",
    "    b = to_eval[index][1]\n",
    "    if (b, a) in to_eval:\n",
    "        asymmetric.append(True)\n",
    "        break\n",
    "if len(asymmetric) > 0:\n",
    "    print(\"The Relation is not asymmetric\")\n",
    "else:\n",
    "    print(\"The Relation is asymmetric\")\n",
    "\n",
    "# Determine if the Relation is antisymmetric\n",
    "antisymmetric = []\n",
    "for index in range(len(to_eval)):\n",
    "    a = to_eval[index][0]\n",
    "    b = to_eval[index][1]\n",
    "    if (b, a) in to_eval and a != b:\n",
    "        antisymmetric.append(True)\n",
    "        break\n",
    "if len(antisymmetric) > 0:\n",
    "    print(\"The Relation is not antisymmetric\")\n",
    "else:\n",
    "    print(\"The Relation is antisymmetric\")\n",
    "\n",
    "# Determine if the Relation is transitive\n",
    "transitive = []\n",
    "for index in range(len(to_eval)):\n",
    "    a = to_eval[index][0]\n",
    "    b = to_eval[index][1]\n",
    "    for inner in range(len(unique)):\n",
    "        c = unique[inner]\n",
    "        if (b, c) in to_eval and (a, c) not in to_eval:\n",
    "            transitive.append(True)            \n",
    "            break\n",
    "if len(transitive) > 0:\n",
    "    print(\"The Relation is not transitive\")\n",
    "else:\n",
    "    print(\"The Relation is transitive\")"
   ]
  }
 ],
 "metadata": {
  "kernelspec": {
   "display_name": "Python 3 (ipykernel)",
   "language": "python",
   "name": "python3"
  },
  "language_info": {
   "codemirror_mode": {
    "name": "ipython",
    "version": 3
   },
   "file_extension": ".py",
   "mimetype": "text/x-python",
   "name": "python",
   "nbconvert_exporter": "python",
   "pygments_lexer": "ipython3",
   "version": "3.11.2"
  }
 },
 "nbformat": 4,
 "nbformat_minor": 5
}
